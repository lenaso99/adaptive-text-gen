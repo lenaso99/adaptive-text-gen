{
 "cells": [
  {
   "cell_type": "code",
   "execution_count": 23,
   "id": "a7147a04",
   "metadata": {},
   "outputs": [],
   "source": [
    "import os\n",
    "os.environ['TF_ENABLE_ONEDNN_OPTS'] = '0'\n",
    "\n",
    "import pandas as pd\n",
    "import torch\n",
    "import transformers\n",
    "from dotenv import load_dotenv\n",
    "from transformers import AutoTokenizer, AutoModelForCausalLM\n",
    "from openai import OpenAI\n",
    "\n",
    "load_dotenv(\"../.env\")\n",
    "openai_api_key = os.getenv(\"OPENAI_API_KEY\")"
   ]
  },
  {
   "cell_type": "code",
   "execution_count": null,
   "id": "34aac0b8",
   "metadata": {},
   "outputs": [],
   "source": [
    "eng_responses = [] # save responses in list to later set as column in dataframe\n",
    "eng_data = pd.read_excel(\"eng_data.xlsx\")\n",
    "\n",
    "model = \"gpt-4o-mini\"\n",
    "client = OpenAI(api_key=openai_api_key)\n",
    "system_prompt = \"You are a helpful assistant aiding in the generation of a Q&A dataset. When given a text, your task is to generate a prompt that the text could have been a response to.\"\n",
    "chat_history = [{\"role\": \"system\", \"content\": system_prompt}]\n",
    "\n",
    "for _, row in eng_data.iterrows():\n",
    "    # iterate over rows of dataframe\n",
    "    chat_history = [{\"role\": \"system\", \"content\": system_prompt}]\n",
    "    text = row[\"text\"]\n",
    "    prompt = f\"\"\"Given the following text, please generate a prompt that it could be a response for:\n",
    "                \\\"{text}\\\"\n",
    "                \"\"\"\n",
    "    chat_history.append({\"role\": \"user\", \"content\": prompt})\n",
    "\n",
    "    response = client.chat.completions.create(\n",
    "        model=model,\n",
    "        messages=chat_history\n",
    "    )\n",
    "\n",
    "    reply = response.choices[0].message.content.strip()\n",
    "    eng_responses.append(reply)\n",
    "eng_data[\"prompt\"] = eng_responses\n",
    "eng_data.to_excel(\"eng_data_pseudoprompt.xlsx\", index=False)"
   ]
  }
 ],
 "metadata": {
  "kernelspec": {
   "display_name": "Python 3",
   "language": "python",
   "name": "python3"
  },
  "language_info": {
   "codemirror_mode": {
    "name": "ipython",
    "version": 3
   },
   "file_extension": ".py",
   "mimetype": "text/x-python",
   "name": "python",
   "nbconvert_exporter": "python",
   "pygments_lexer": "ipython3",
   "version": "3.12.3"
  }
 },
 "nbformat": 4,
 "nbformat_minor": 5
}
