{
 "cells": [
  {
   "cell_type": "code",
   "execution_count": 2,
   "id": "a7147a04",
   "metadata": {},
   "outputs": [],
   "source": [
    "import os\n",
    "os.environ['TF_ENABLE_ONEDNN_OPTS'] = '0'\n",
    "\n",
    "import pandas as pd\n",
    "from dotenv import load_dotenv\n",
    "from transformers import pipeline\n",
    "\n",
    "load_dotenv(\"../.env\")\n",
    "hf_token = os.getenv(\"HF_TOKEN\")"
   ]
  },
  {
   "cell_type": "code",
   "execution_count": null,
   "id": "34aac0b8",
   "metadata": {},
   "outputs": [],
   "source": [
    "eng_data = pd.read_excel(\"eng_data.xlsx\")\n",
    "model = \"tiiuae/falcon-rw-1b\"\n",
    "pipe = pipeline(\"text-generation\", model=model, trust_remote_code=True, token=hf_token)\n",
    "\n",
    "eng_responses = []\n",
    "for _, row in eng_data.iterrows():\n",
    "    text = row[\"text\"]\n",
    "    prompt = f\"<INST>Given the following text, please generate a prompt that it could be a response for:\\n\\\"{text}\\\"</INST>\"\n",
    "\n",
    "    result = pipe(prompt, max_new_tokens=50)\n",
    "    generated = result.split(\"</INST>\")[-1].strip()\n",
    "\n",
    "    eng_responses.append(generated)\n",
    "eng_data[\"prompt\"] = eng_responses\n",
    "eng_data.to_excel(\"eng_data_pseudoprompt.xlsx\", index=False)"
   ]
  }
 ],
 "metadata": {
  "kernelspec": {
   "display_name": "Python 3",
   "language": "python",
   "name": "python3"
  },
  "language_info": {
   "codemirror_mode": {
    "name": "ipython",
    "version": 3
   },
   "file_extension": ".py",
   "mimetype": "text/x-python",
   "name": "python",
   "nbconvert_exporter": "python",
   "pygments_lexer": "ipython3",
   "version": "3.12.3"
  }
 },
 "nbformat": 4,
 "nbformat_minor": 5
}
