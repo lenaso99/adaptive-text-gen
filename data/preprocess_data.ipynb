{
 "cells": [
  {
   "cell_type": "code",
   "execution_count": 1,
   "metadata": {},
   "outputs": [
    {
     "name": "stderr",
     "output_type": "stream",
     "text": [
      "c:\\Users\\lenao\\AppData\\Local\\Programs\\Python\\Python312\\Lib\\site-packages\\tqdm\\auto.py:21: TqdmWarning: IProgress not found. Please update jupyter and ipywidgets. See https://ipywidgets.readthedocs.io/en/stable/user_install.html\n",
      "  from .autonotebook import tqdm as notebook_tqdm\n"
     ]
    }
   ],
   "source": [
    "import pandas as pd\n",
    "from datasets import load_dataset\n",
    "from sklearn.model_selection import train_test_split"
   ]
  },
  {
   "cell_type": "markdown",
   "metadata": {},
   "source": [
    "#### Step 1: Data Loading"
   ]
  },
  {
   "cell_type": "code",
   "execution_count": 24,
   "metadata": {},
   "outputs": [],
   "source": [
    "## from huggingface datasets\n",
    "## onestop qa\n",
    "ds_onestop = load_dataset(\"iastate/onestop_english\")\n",
    "dfs_onestop = []\n",
    "for split in ds_onestop.keys():\n",
    "    split_df = ds_onestop[split].to_pandas()\n",
    "    #split_df[\"split\"] = split\n",
    "    dfs_onestop.append(split_df)\n",
    "df_onestop = pd.concat(dfs_onestop)\n",
    "\n",
    "## cefr english\n",
    "ds_cefr_eng = load_dataset(\"edesaras/CEFR-Sentence-Level-Annotations\")\n",
    "dfs_cefr_eng = []\n",
    "for split in ds_cefr_eng.keys():\n",
    "    split_df = ds_cefr_eng[split].to_pandas()\n",
    "    #split_df[\"split\"] = split\n",
    "    dfs_cefr_eng.append(split_df)\n",
    "df_cefr_eng = pd.concat(dfs_cefr_eng)\n",
    "\n",
    "## cefr german\n",
    "ds_cefr_ger = load_dataset(\"EliasAhl/german-cefr\")\n",
    "dfs_cefr_ger = []\n",
    "for split in ds_cefr_ger.keys():\n",
    "    split_df = ds_cefr_ger[split].to_pandas()\n",
    "    #split_df[\"split\"] = split\n",
    "    dfs_cefr_ger.append(split_df)\n",
    "df_cefr_ger = pd.concat(dfs_cefr_ger)\n"
   ]
  },
  {
   "cell_type": "markdown",
   "metadata": {},
   "source": [
    "#### Step 2: Unifying difficulty levels"
   ]
  },
  {
   "cell_type": "code",
   "execution_count": 25,
   "metadata": {},
   "outputs": [],
   "source": [
    "'''\n",
    "onestop difficulty levels: 1 (ele), 2 (int), 3 (adv), with 1 being the easiest and 3 being the hardest\n",
    "cefr_en levels: 1-6, with 1 (corresponding to A1) being the easiest and 6 (corresponding to C2) being the hardest\n",
    "    average level between 2 annotations is taken\n",
    "cefr_ger levels: A1, A2, B1, B2, C1, C2, with A1 being the easiest and C2 being the hardest\n",
    "'''\n",
    "# first, average the two annotations in cefr_en\n",
    "df_cefr_eng[\"avg_level\"] = df_cefr_eng[[\"Annotator I\", \"Annotator II\"]].mean(axis=1).round().astype(int)\n"
   ]
  },
  {
   "cell_type": "code",
   "execution_count": 26,
   "metadata": {},
   "outputs": [],
   "source": [
    "# normalize column names\n",
    "df_cefr_eng.rename(columns={\"avg_level\": \"level\"}, inplace=True)\n",
    "df_cefr_ger.rename(columns={\"cefrLevel\": \"level\"}, inplace=True)\n",
    "df_onestop.rename(columns={\"label\": \"level\"}, inplace=True)\n",
    "\n",
    "df_cefr_eng.drop(\"Annotator I\", axis=1, inplace=True)\n",
    "df_cefr_eng.drop(\"Annotator II\", axis=1, inplace=True)\n",
    "df_cefr_ger.drop(\"prompt\", axis=1, inplace=True)"
   ]
  },
  {
   "cell_type": "code",
   "execution_count": 27,
   "metadata": {},
   "outputs": [],
   "source": [
    "normalized_levels_onestop = {\n",
    "    0: \"[Level: elementary-1]\", 1: \"[Level: intermediate-1]\", 2: \"[Level: advanced-1]\" # onestop qa levels\n",
    "}\n",
    "normalized_levels_cefr_eng = {\n",
    "    1: \"[Level: elementary-1]\", 2: \"[Level: elementary-2]\", 3: \"[Level: intermediate-1]\", 4: \"[Level: intermediate-2]\", 5: \"[Level: advanced-1]\", 6: \"[Level: advanced-2]\" # english cefr levels\n",
    "}\n",
    "normalized_levels_cefr_ger = {\n",
    "    \"A1\": \"[Level: elementary-1]\", \"A2\": \"[Level: elementary-2]\", \"B1\": \"[Level: intermediate-1]\", \"B2\": \"[Level: intermediate-2]\", \"C1\": \"[Level: advanced-1]\", \"C2\": \"[Level: advanced-2]\" # german cefr levels\n",
    "}"
   ]
  },
  {
   "cell_type": "code",
   "execution_count": 28,
   "metadata": {},
   "outputs": [],
   "source": [
    "df_onestop[\"normalized_level\"] = df_onestop[\"level\"].map(lambda x: normalized_levels_onestop[x])\n",
    "df_cefr_eng[\"normalized_level\"] = df_cefr_eng[\"level\"].map(lambda x: normalized_levels_cefr_eng[x])\n",
    "df_cefr_ger[\"normalized_level\"] = df_cefr_ger[\"level\"].map(lambda x: normalized_levels_cefr_ger[x])"
   ]
  },
  {
   "cell_type": "code",
   "execution_count": 29,
   "metadata": {},
   "outputs": [],
   "source": [
    "#create one dataset for english and one for german\n",
    "df_eng = pd.concat([df_onestop, df_cefr_eng], ignore_index=True)\n",
    "df_ger = df_cefr_ger.copy()"
   ]
  },
  {
   "cell_type": "code",
   "execution_count": 32,
   "metadata": {},
   "outputs": [],
   "source": [
    "eng_train, eng_test = train_test_split(df_eng, test_size=0.2, random_state=42, stratify=df_eng[\"normalized_level\"])\n",
    "ger_train, ger_test = train_test_split(df_ger, test_size=0.2, random_state=42, stratify=df_ger[\"normalized_level\"])"
   ]
  },
  {
   "cell_type": "code",
   "execution_count": 34,
   "metadata": {},
   "outputs": [],
   "source": [
    "eng_test.to_excel(\"../data/eng_test.xlsx\", index=False, engine=\"xlsxwriter\")\n",
    "eng_train.to_excel(\"../data/eng_train.xlsx\", index=False)\n",
    "ger_test.to_excel(\"../data/ger_test.xlsx\", index=False)\n",
    "ger_train.to_excel(\"../data/ger_train.xlsx\", index=False)"
   ]
  }
 ],
 "metadata": {
  "kernelspec": {
   "display_name": "Python 3",
   "language": "python",
   "name": "python3"
  },
  "language_info": {
   "codemirror_mode": {
    "name": "ipython",
    "version": 3
   },
   "file_extension": ".py",
   "mimetype": "text/x-python",
   "name": "python",
   "nbconvert_exporter": "python",
   "pygments_lexer": "ipython3",
   "version": "3.12.3"
  }
 },
 "nbformat": 4,
 "nbformat_minor": 2
}
