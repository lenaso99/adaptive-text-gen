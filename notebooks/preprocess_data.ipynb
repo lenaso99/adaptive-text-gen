{
 "cells": [
  {
   "cell_type": "code",
   "execution_count": 69,
   "metadata": {},
   "outputs": [],
   "source": [
    "import pandas as pd\n",
    "from datasets import load_dataset\n",
    "from sklearn.model_selection import train_test_split"
   ]
  },
  {
   "cell_type": "markdown",
   "metadata": {},
   "source": [
    "#### Step 1: Data Loading"
   ]
  },
  {
   "cell_type": "code",
   "execution_count": 61,
   "metadata": {},
   "outputs": [
    {
     "name": "stderr",
     "output_type": "stream",
     "text": [
      "Using the latest cached version of the dataset since iastate/onestop_english couldn't be found on the Hugging Face Hub\n",
      "Found the latest cached dataset configuration 'default' at C:\\Users\\lenao\\.cache\\huggingface\\datasets\\iastate___onestop_english\\default\\0.0.0\\748c4f3fb4668e53f291756363d1876ebbdca007 (last modified on Sun Apr  6 16:11:30 2025).\n"
     ]
    }
   ],
   "source": [
    "## from huggingface datasets\n",
    "## onestop qa\n",
    "ds_onestop = load_dataset(\"iastate/onestop_english\")\n",
    "dfs_onestop = []\n",
    "for split in ds_onestop.keys():\n",
    "    split_df = ds_onestop[split].to_pandas()\n",
    "    #split_df[\"split\"] = split\n",
    "    dfs_onestop.append(split_df)\n",
    "df_onestop = pd.concat(dfs_onestop)\n",
    "\n",
    "## cefr english\n",
    "ds_cefr_eng = load_dataset(\"edesaras/CEFR-Sentence-Level-Annotations\")\n",
    "dfs_cefr_eng = []\n",
    "for split in ds_cefr_eng.keys():\n",
    "    split_df = ds_cefr_eng[split].to_pandas()\n",
    "    #split_df[\"split\"] = split\n",
    "    dfs_cefr_eng.append(split_df)\n",
    "df_cefr_eng = pd.concat(dfs_cefr_eng)\n",
    "\n",
    "## cefr german\n",
    "ds_cefr_ger = load_dataset(\"EliasAhl/german-cefr\")\n",
    "dfs_cefr_ger = []\n",
    "for split in ds_cefr_ger.keys():\n",
    "    split_df = ds_cefr_ger[split].to_pandas()\n",
    "    #split_df[\"split\"] = split\n",
    "    dfs_cefr_ger.append(split_df)\n",
    "df_cefr_ger = pd.concat(dfs_cefr_ger)\n"
   ]
  },
  {
   "cell_type": "markdown",
   "metadata": {},
   "source": [
    "#### Step 2: Unifying difficulty levels"
   ]
  },
  {
   "cell_type": "code",
   "execution_count": 62,
   "metadata": {},
   "outputs": [],
   "source": [
    "'''\n",
    "onestop difficulty levels: 1 (ele), 2 (int), 3 (adv), with 1 being the easiest and 3 being the hardest\n",
    "cefr_en levels: 1-6, with 1 (corresponding to A1) being the easiest and 6 (corresponding to C2) being the hardest\n",
    "    average level between 2 annotations is taken\n",
    "cefr_ger levels: A1, A2, B1, B2, C1, C2, with A1 being the easiest and C2 being the hardest\n",
    "'''\n",
    "# first, average the two annotations in cefr_en\n",
    "df_cefr_eng[\"avg_level\"] = df_cefr_eng[[\"Annotator I\", \"Annotator II\"]].mean(axis=1).round().astype(int)\n"
   ]
  },
  {
   "cell_type": "code",
   "execution_count": 63,
   "metadata": {},
   "outputs": [],
   "source": [
    "# normalize column names\n",
    "df_cefr_eng.rename(columns={\"avg_level\": \"level\"}, inplace=True)\n",
    "df_cefr_ger.rename(columns={\"cefrLevel\": \"level\"}, inplace=True)\n",
    "df_onestop.rename(columns={\"label\": \"level\"}, inplace=True)\n",
    "\n",
    "df_cefr_eng.drop(\"Annotator I\", axis=1, inplace=True)\n",
    "df_cefr_eng.drop(\"Annotator II\", axis=1, inplace=True)\n",
    "df_cefr_ger.drop(\"prompt\", axis=1, inplace=True)"
   ]
  },
  {
   "cell_type": "code",
   "execution_count": 64,
   "metadata": {},
   "outputs": [],
   "source": [
    "normalized_levels_onestop = {\n",
    "    0: (\"ele\", 1), 1: (\"int\", 1), 2: (\"adv\", 1) # onestop qa levels\n",
    "}\n",
    "normalized_levels_cefr_eng = {\n",
    "    1: (\"ele\", 1), 2: (\"ele\", 2), 3: (\"int\", 1), 4: (\"int\", 2), 5: (\"adv\", 1), 6: (\"adv\", 1) # english cefr levels\n",
    "}\n",
    "normalized_levels_cefr_ger = {\n",
    "    \"A1\": (\"ele\", 1), \"A2\": (\"ele\", 2), \"B1\": (\"int\", 1), \"B2\": (\"int\", 2), \"C1\": (\"adv\", 1), \"C2\": (\"adv\", 1) # german cefr levels\n",
    "}"
   ]
  },
  {
   "cell_type": "code",
   "execution_count": 65,
   "metadata": {},
   "outputs": [],
   "source": [
    "df_onestop[\"normalized_level\"] = df_onestop[\"level\"].map(lambda x: normalized_levels_onestop[x][0])\n",
    "df_cefr_eng[\"normalized_level\"] = df_cefr_eng[\"level\"].map(lambda x: normalized_levels_cefr_eng[x][0])\n",
    "df_cefr_ger[\"normalized_level\"] = df_cefr_ger[\"level\"].map(lambda x: normalized_levels_cefr_ger[x][0])\n",
    "\n",
    "df_onestop[\"normalized_sublevel\"] = df_onestop[\"level\"].map(lambda x: normalized_levels_onestop[x][1])\n",
    "df_cefr_eng[\"normalized_sublevel\"] = df_cefr_eng[\"level\"].map(lambda x: normalized_levels_cefr_eng[x][1])\n",
    "df_cefr_ger[\"normalized_sublevel\"] = df_cefr_ger[\"level\"].map(lambda x: normalized_levels_cefr_ger[x][1])\n",
    "\n"
   ]
  },
  {
   "cell_type": "code",
   "execution_count": null,
   "metadata": {},
   "outputs": [],
   "source": [
    "#create one dataset for english and one for german\n",
    "df_eng = pd.concat([df_onestop, df_cefr_eng], ignore_index=True)\n",
    "df_ger = df_cefr_ger.copy()"
   ]
  },
  {
   "cell_type": "code",
   "execution_count": 70,
   "metadata": {},
   "outputs": [],
   "source": [
    "eng_train, eng_test = train_test_split(df_eng, test_size=0.2, random_state=42, stratify=df_eng[\"normalized_level\"])\n",
    "ger_train, ger_test = train_test_split(df_ger, test_size=0.2, random_state=42, stratify=df_ger[\"normalized_level\"])"
   ]
  },
  {
   "cell_type": "code",
   "execution_count": 75,
   "metadata": {},
   "outputs": [],
   "source": [
    "eng_test.to_excel(\"../data/eng_test.xlsx\", index=False, engine=\"xlsxwriter\")\n",
    "eng_train.to_excel(\"../data/eng_train.xlsx\", index=False)\n",
    "ger_test.to_excel(\"../data/ger_test.xlsx\", index=False)\n",
    "ger_train.to_excel(\"../data/ger_train.xlsx\", index=False)"
   ]
  }
 ],
 "metadata": {
  "kernelspec": {
   "display_name": "Python 3",
   "language": "python",
   "name": "python3"
  },
  "language_info": {
   "codemirror_mode": {
    "name": "ipython",
    "version": 3
   },
   "file_extension": ".py",
   "mimetype": "text/x-python",
   "name": "python",
   "nbconvert_exporter": "python",
   "pygments_lexer": "ipython3",
   "version": "3.12.3"
  }
 },
 "nbformat": 4,
 "nbformat_minor": 2
}
